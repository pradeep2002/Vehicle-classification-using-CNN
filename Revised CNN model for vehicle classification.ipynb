{
 "cells": [
  {
   "cell_type": "code",
   "execution_count": 10,
   "id": "adopted-transfer",
   "metadata": {},
   "outputs": [
    {
     "name": "stdout",
     "output_type": "stream",
     "text": [
      "Found 17616 images belonging to 9 classes.\n",
      "Found 324 images belonging to 9 classes.\n"
     ]
    }
   ],
   "source": [
    "import tensorflow as tf\n",
    "from keras.preprocessing.image import ImageDataGenerator\n",
    "import numpy as np\n",
    "\n",
    "# loading training data\n",
    "train_datagen = ImageDataGenerator(\n",
    "        rescale=1./255,\n",
    "        shear_range=0.2,\n",
    "        zoom_range=0.2,\n",
    "        horizontal_flip=True)\n",
    "train_generator = train_datagen.flow_from_directory(\n",
    "        'E:/Datasets for RAC Projects/train/train',\n",
    "        target_size=(128, 128),\n",
    "        batch_size=32,\n",
    "        class_mode='categorical')\n",
    "\n",
    "# loading testing data\n",
    "test_datagen = ImageDataGenerator(rescale=1./255)\n",
    "test_generator = train_datagen.flow_from_directory(\n",
    "        'E:/Datasets for RAC Projects/train/test',\n",
    "        target_size=(128, 128),\n",
    "        batch_size=32,\n",
    "        class_mode='categorical')\n",
    "\n",
    "# initialising sequential model and adding layers to it\n",
    "# cnn = tf.keras.models.Sequential()\n",
    "# cnn.add(tf.keras.layers.Conv2D(filters=48, kernel_size=3, activation='relu', input_shape=[128, 128, 3]))\n",
    "# cnn.add(tf.keras.layers.MaxPool2D(pool_size=2, strides=2))\n",
    "# cnn.add(tf.keras.layers.Conv2D(filters=48, kernel_size=3, activation='relu'))\n",
    "# cnn.add(tf.keras.layers.MaxPool2D(pool_size=2, strides=2))\n",
    "# cnn.add(tf.keras.layers.Conv2D(filters=32, kernel_size=3, activation='relu'))\n",
    "# cnn.add(tf.keras.layers.MaxPool2D(pool_size=2, strides=2))\n",
    "# cnn.add(tf.keras.layers.Flatten())\n",
    "# cnn.add(tf.keras.layers.Dense(128, activation='relu'))\n",
    "# cnn.add(tf.keras.layers.Dense(64, activation='relu'))\n",
    "# cnn.add(tf.keras.layers.Dense(6, activation='softmax'))\n",
    "\n",
    "# # finally compile and train the cnn\n",
    "# cnn.compile(optimizer=\"adam\", loss=\"categorical_crossentropy\", metrics=[\"accuracy\"])\n",
    "# cnn.fit(x=train_generator, validation_data=test_generator, epochs=30)"
   ]
  },
  {
   "cell_type": "code",
   "execution_count": 11,
   "id": "sustained-friendly",
   "metadata": {},
   "outputs": [
    {
     "name": "stdout",
     "output_type": "stream",
     "text": [
      "Model: \"sequential_5\"\n",
      "_________________________________________________________________\n",
      "Layer (type)                 Output Shape              Param #   \n",
      "=================================================================\n",
      "conv2d_15 (Conv2D)           (None, 126, 126, 48)      1344      \n",
      "_________________________________________________________________\n",
      "max_pooling2d_15 (MaxPooling (None, 63, 63, 48)        0         \n",
      "_________________________________________________________________\n",
      "conv2d_16 (Conv2D)           (None, 61, 61, 48)        20784     \n",
      "_________________________________________________________________\n",
      "max_pooling2d_16 (MaxPooling (None, 30, 30, 48)        0         \n",
      "_________________________________________________________________\n",
      "conv2d_17 (Conv2D)           (None, 28, 28, 32)        13856     \n",
      "_________________________________________________________________\n",
      "max_pooling2d_17 (MaxPooling (None, 14, 14, 32)        0         \n",
      "_________________________________________________________________\n",
      "flatten_5 (Flatten)          (None, 6272)              0         \n",
      "_________________________________________________________________\n",
      "dense_15 (Dense)             (None, 128)               802944    \n",
      "_________________________________________________________________\n",
      "dense_16 (Dense)             (None, 64)                8256      \n",
      "_________________________________________________________________\n",
      "dense_17 (Dense)             (None, 9)                 585       \n",
      "=================================================================\n",
      "Total params: 847,769\n",
      "Trainable params: 847,769\n",
      "Non-trainable params: 0\n",
      "_________________________________________________________________\n"
     ]
    }
   ],
   "source": [
    "cnn = tf.keras.models.Sequential()\n",
    "cnn.add(tf.keras.layers.Conv2D(filters=48, kernel_size=3, activation='relu', input_shape=[128, 128, 3]))\n",
    "cnn.add(tf.keras.layers.MaxPool2D(pool_size=2, strides=2))\n",
    "cnn.add(tf.keras.layers.Conv2D(filters=48, kernel_size=3, activation='relu'))\n",
    "cnn.add(tf.keras.layers.MaxPool2D(pool_size=2, strides=2))\n",
    "cnn.add(tf.keras.layers.Conv2D(filters=32, kernel_size=3, activation='relu'))\n",
    "cnn.add(tf.keras.layers.MaxPool2D(pool_size=2, strides=2))\n",
    "cnn.add(tf.keras.layers.Flatten())\n",
    "cnn.add(tf.keras.layers.Dense(128, activation='relu'))\n",
    "cnn.add(tf.keras.layers.Dense(64, activation='relu'))\n",
    "cnn.add(tf.keras.layers.Dense(9, activation='softmax'))\n",
    "cnn.summary()\n",
    "\n",
    "# # finally compile and train the cnn\n",
    "# cnn.compile(optimizer=\"adam\", loss=\"categorical_crossentropy\", metrics=[\"accuracy\"])\n",
    "# cnn.fit(x=train_generator, validation_data=test_generator, epochs=30)"
   ]
  },
  {
   "cell_type": "code",
   "execution_count": null,
   "id": "boxed-pleasure",
   "metadata": {},
   "outputs": [],
   "source": [
    "model.fit_generator(\n",
    "    train_generator,\n",
    "    steps_per_epoch=samples_per_epoch,\n",
    "    epochs=epochs,\n",
    "    validation_data=validation_generator,\n",
    "    callbacks=cbks,\n",
    "    validation_steps=)"
   ]
  },
  {
   "cell_type": "code",
   "execution_count": 13,
   "id": "willing-contributor",
   "metadata": {},
   "outputs": [
    {
     "name": "stdout",
     "output_type": "stream",
     "text": [
      "Epoch 1/50\n",
      "150/150 [==============================] - ETA: 0s - loss: 1.1529 - accuracy: 0.5897WARNING:tensorflow:Your input ran out of data; interrupting training. Make sure that your dataset or generator can generate at least `steps_per_epoch * epochs` batches (in this case, 60 batches). You may need to use the repeat() function when building your dataset.\n",
      "150/150 [==============================] - 131s 869ms/step - loss: 1.1527 - accuracy: 0.5898 - val_loss: 1.9526 - val_accuracy: 0.4228\n",
      "Epoch 2/50\n",
      "150/150 [==============================] - 128s 855ms/step - loss: 1.0717 - accuracy: 0.6253\n",
      "Epoch 3/50\n",
      "150/150 [==============================] - 128s 854ms/step - loss: 1.0319 - accuracy: 0.6316\n",
      "Epoch 4/50\n",
      "150/150 [==============================] - 124s 825ms/step - loss: 1.0508 - accuracy: 0.6372\n",
      "Epoch 5/50\n",
      "150/150 [==============================] - 126s 840ms/step - loss: 0.9787 - accuracy: 0.6514\n",
      "Epoch 6/50\n",
      "150/150 [==============================] - 125s 829ms/step - loss: 0.9245 - accuracy: 0.6764\n",
      "Epoch 7/50\n",
      "150/150 [==============================] - 125s 834ms/step - loss: 0.8965 - accuracy: 0.6769\n",
      "Epoch 8/50\n",
      "150/150 [==============================] - 124s 823ms/step - loss: 0.8764 - accuracy: 0.6885\n",
      "Epoch 9/50\n",
      "150/150 [==============================] - 125s 831ms/step - loss: 0.8367 - accuracy: 0.7112\n",
      "Epoch 10/50\n",
      "150/150 [==============================] - 125s 833ms/step - loss: 0.8399 - accuracy: 0.7062\n",
      "Epoch 11/50\n",
      "150/150 [==============================] - 123s 822ms/step - loss: 0.7718 - accuracy: 0.7426\n",
      "Epoch 12/50\n",
      "150/150 [==============================] - 127s 845ms/step - loss: 0.7942 - accuracy: 0.7215\n",
      "Epoch 13/50\n",
      "150/150 [==============================] - 126s 839ms/step - loss: 0.7365 - accuracy: 0.7319\n",
      "Epoch 14/50\n",
      "150/150 [==============================] - 130s 867ms/step - loss: 0.7720 - accuracy: 0.7349\n",
      "Epoch 15/50\n",
      "150/150 [==============================] - 127s 847ms/step - loss: 0.7581 - accuracy: 0.7388\n",
      "Epoch 16/50\n",
      "150/150 [==============================] - 125s 835ms/step - loss: 0.7475 - accuracy: 0.7315\n",
      "Epoch 17/50\n",
      "150/150 [==============================] - 124s 826ms/step - loss: 0.7135 - accuracy: 0.7568\n",
      "Epoch 18/50\n",
      "150/150 [==============================] - 124s 826ms/step - loss: 0.7183 - accuracy: 0.7524\n",
      "Epoch 19/50\n",
      "150/150 [==============================] - 124s 825ms/step - loss: 0.7123 - accuracy: 0.7514\n",
      "Epoch 20/50\n",
      "150/150 [==============================] - 142s 944ms/step - loss: 0.6853 - accuracy: 0.7546\n",
      "Epoch 21/50\n",
      "150/150 [==============================] - 145s 966ms/step - loss: 0.6422 - accuracy: 0.7716\n",
      "Epoch 22/50\n",
      "150/150 [==============================] - 141s 938ms/step - loss: 0.7020 - accuracy: 0.7543\n",
      "Epoch 23/50\n",
      "150/150 [==============================] - 138s 918ms/step - loss: 0.6539 - accuracy: 0.7572\n",
      "Epoch 24/50\n",
      "150/150 [==============================] - 142s 945ms/step - loss: 0.6772 - accuracy: 0.7542\n",
      "Epoch 25/50\n",
      "150/150 [==============================] - 168s 1s/step - loss: 0.6299 - accuracy: 0.7862\n",
      "Epoch 26/50\n",
      "150/150 [==============================] - 216s 1s/step - loss: 0.6464 - accuracy: 0.7750\n",
      "Epoch 27/50\n",
      "150/150 [==============================] - 225s 1s/step - loss: 0.6245 - accuracy: 0.7808\n",
      "Epoch 28/50\n",
      "150/150 [==============================] - 239s 2s/step - loss: 0.6075 - accuracy: 0.7875\n",
      "Epoch 29/50\n",
      "150/150 [==============================] - 232s 2s/step - loss: 0.6027 - accuracy: 0.7882\n",
      "Epoch 30/50\n",
      "150/150 [==============================] - 214s 1s/step - loss: 0.6286 - accuracy: 0.7788\n",
      "Epoch 31/50\n",
      "150/150 [==============================] - 227s 2s/step - loss: 0.5953 - accuracy: 0.7810\n",
      "Epoch 32/50\n",
      "150/150 [==============================] - 213s 1s/step - loss: 0.6005 - accuracy: 0.7891\n",
      "Epoch 33/50\n",
      "150/150 [==============================] - 216s 1s/step - loss: 0.5936 - accuracy: 0.7944\n",
      "Epoch 34/50\n",
      "150/150 [==============================] - 214s 1s/step - loss: 0.6007 - accuracy: 0.7885\n",
      "Epoch 35/50\n",
      "150/150 [==============================] - 212s 1s/step - loss: 0.5572 - accuracy: 0.8073\n",
      "Epoch 36/50\n",
      "150/150 [==============================] - 216s 1s/step - loss: 0.5642 - accuracy: 0.8055\n",
      "Epoch 37/50\n",
      "150/150 [==============================] - 215s 1s/step - loss: 0.5599 - accuracy: 0.8000\n",
      "Epoch 38/50\n",
      "150/150 [==============================] - 221s 1s/step - loss: 0.5989 - accuracy: 0.7878\n",
      "Epoch 39/50\n",
      "150/150 [==============================] - 219s 1s/step - loss: 0.5918 - accuracy: 0.7963\n",
      "Epoch 40/50\n",
      "150/150 [==============================] - 217s 1s/step - loss: 0.5369 - accuracy: 0.8065\n",
      "Epoch 41/50\n",
      "150/150 [==============================] - 211s 1s/step - loss: 0.5290 - accuracy: 0.8186\n",
      "Epoch 42/50\n",
      "150/150 [==============================] - 215s 1s/step - loss: 0.5555 - accuracy: 0.8043\n",
      "Epoch 43/50\n",
      "150/150 [==============================] - 213s 1s/step - loss: 0.5343 - accuracy: 0.8125\n",
      "Epoch 44/50\n",
      "150/150 [==============================] - 215s 1s/step - loss: 0.5318 - accuracy: 0.8189\n",
      "Epoch 45/50\n",
      "150/150 [==============================] - 213s 1s/step - loss: 0.5106 - accuracy: 0.8154\n",
      "Epoch 46/50\n",
      "150/150 [==============================] - 216s 1s/step - loss: 0.4976 - accuracy: 0.8239\n",
      "Epoch 47/50\n",
      "150/150 [==============================] - 216s 1s/step - loss: 0.5090 - accuracy: 0.8205\n",
      "Epoch 48/50\n",
      "150/150 [==============================] - 218s 1s/step - loss: 0.5145 - accuracy: 0.8271\n",
      "Epoch 49/50\n",
      "150/150 [==============================] - 216s 1s/step - loss: 0.4852 - accuracy: 0.8290\n",
      "Epoch 50/50\n",
      "150/150 [==============================] - 216s 1s/step - loss: 0.4626 - accuracy: 0.8439\n"
     ]
    },
    {
     "data": {
      "text/plain": [
       "<tensorflow.python.keras.callbacks.History at 0x25d9036b278>"
      ]
     },
     "execution_count": 13,
     "metadata": {},
     "output_type": "execute_result"
    }
   ],
   "source": [
    "cnn.compile(optimizer=\"adam\", loss=\"categorical_crossentropy\", metrics=[\"accuracy\"])\n",
    "cnn.fit_generator(\n",
    "    train_generator,\n",
    "    steps_per_epoch=150,\n",
    "    epochs=50,\n",
    "    validation_data=test_generator,\n",
    "    validation_steps=60)\n",
    "# cnn.fit_generator(x=train_generator, validation_data=test_generator, epochs=30)"
   ]
  },
  {
   "cell_type": "code",
   "execution_count": 16,
   "id": "packed-department",
   "metadata": {},
   "outputs": [],
   "source": [
    "import os\n",
    "target_dir = './cnn_model/'\n",
    "if not os.path.exists(target_dir):\n",
    "    os.mkdir(target_dir)\n",
    "cnn.save('./cnn_model/model.h5')\n",
    "cnn.save_weights('./cnn_model/weights.h5')"
   ]
  },
  {
   "cell_type": "code",
   "execution_count": 18,
   "id": "grave-residence",
   "metadata": {},
   "outputs": [],
   "source": [
    "import os\n",
    "import numpy as np\n",
    "from keras.preprocessing.image import ImageDataGenerator, load_img, img_to_array\n",
    "from keras.models import Sequential, load_model\n",
    "import cv2\n",
    "\n",
    "img_width, img_height = 128, 128\n",
    "model_path = './cnn_model/model.h5'\n",
    "model_weights_path = './cnn_model/weights.h5'\n",
    "model = load_model(model_path)\n",
    "model.load_weights(model_weights_path)"
   ]
  },
  {
   "cell_type": "code",
   "execution_count": 20,
   "id": "based-lease",
   "metadata": {},
   "outputs": [],
   "source": [
    "def predict(file):\n",
    "    x = load_img(file, target_size=(img_width,img_height))\n",
    "    x = img_to_array(x)\n",
    "    x = np.expand_dims(x, axis=0)\n",
    "    array = model.predict(x)\n",
    "    result = array[0]\n",
    "    answer = np.argmax(result)\n",
    "    if answer == 0:\n",
    "        print(\"Label: Ambulances\")\n",
    "    elif answer == 1:\n",
    "        print(\"Labels: Bicycles\")\n",
    "    elif answer == 2:\n",
    "        print(\"Label: Buss\")\n",
    "    elif answer == 3:\n",
    "        print(\"Label: Cars\")\n",
    "    elif answer == 4:\n",
    "        print(\"Labels: Limousnes\")\n",
    "    elif answer == 5:\n",
    "        print(\"Label: Motorcycles\")\n",
    "    elif answer == 6:\n",
    "        print(\"Label: Taxis\")\n",
    "    elif answer == 7:\n",
    "        print(\"Labels: Trucks\")\n",
    "    elif answer == 8:\n",
    "        print(\"Label: Vans\")\n",
    "\n",
    "    return answer\n"
   ]
  },
  {
   "cell_type": "code",
   "execution_count": 21,
   "id": "extensive-assistant",
   "metadata": {},
   "outputs": [
    {
     "name": "stdout",
     "output_type": "stream",
     "text": [
      "Label: Vans\n"
     ]
    }
   ],
   "source": [
    "img = predict('E:/Datasets for RAC Projects/train/train/Vans/000165_08.jpg')"
   ]
  },
  {
   "cell_type": "code",
   "execution_count": 28,
   "id": "major-renewal",
   "metadata": {},
   "outputs": [
    {
     "name": "stdout",
     "output_type": "stream",
     "text": [
      "Labels: Trucks\n"
     ]
    }
   ],
   "source": [
    "img = predict('C:/Users/PRADEEP/Desktop/trc.jpg')"
   ]
  },
  {
   "cell_type": "code",
   "execution_count": null,
   "id": "found-discharge",
   "metadata": {},
   "outputs": [],
   "source": []
  }
 ],
 "metadata": {
  "kernelspec": {
   "display_name": "Python 3",
   "language": "python",
   "name": "python3"
  },
  "language_info": {
   "codemirror_mode": {
    "name": "ipython",
    "version": 3
   },
   "file_extension": ".py",
   "mimetype": "text/x-python",
   "name": "python",
   "nbconvert_exporter": "python",
   "pygments_lexer": "ipython3",
   "version": "3.6.2"
  }
 },
 "nbformat": 4,
 "nbformat_minor": 5
}
